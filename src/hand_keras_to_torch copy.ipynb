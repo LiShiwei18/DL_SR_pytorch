{
 "cells": [
  {
   "cell_type": "code",
   "execution_count": 1,
   "metadata": {},
   "outputs": [
    {
     "name": "stderr",
     "output_type": "stream",
     "text": [
      "Using TensorFlow backend.\n",
      "/root/miniconda3/envs/k2t_new/lib/python3.6/site-packages/tqdm/auto.py:22: TqdmWarning: IProgress not found. Please update jupyter and ipywidgets. See https://ipywidgets.readthedocs.io/en/stable/user_install.html\n",
      "  from .autonotebook import tqdm as notebook_tqdm\n"
     ]
    }
   ],
   "source": [
    "'''手动读取.h5文件赋值给torch'''\n",
    "import keras\n",
    "from models.DFCAN16 import DFCAN as keras_DFCAN\n",
    "from model.DFCAN import DFCAN as torch_DFCAN\n",
    "input_height, input_width, n_channel = 502, 502, 1\n",
    "\n",
    "weight_file = \"model_weights.h5\"\n",
    "\n",
    "keras_model = keras_DFCAN((input_height, input_width, n_channel))\n",
    "keras_model.load_weights(weight_file)"
   ]
  },
  {
   "cell_type": "code",
   "execution_count": 2,
   "metadata": {},
   "outputs": [],
   "source": [
    "#加载keras中可以学习的层的权重\n",
    "keras_layers_name = []\n",
    "keras_layers_weight = []\n",
    "for layer in keras_model.layers:\n",
    "    if layer.trainable == True:\n",
    "        keras_layers_name.append(layer.name)\n",
    "        keras_layers_weight.append(layer.weights)"
   ]
  },
  {
   "cell_type": "code",
   "execution_count": 3,
   "metadata": {},
   "outputs": [],
   "source": [
    "#加载pytorch权重\n",
    "torch_layers_names = []\n",
    "torch_layers_params = []\n",
    "model =  torch_DFCAN((n_channel))\n",
    "for name, param in model.named_parameters():\n",
    "    torch_layers_names.append(name)\n",
    "    if param.requires_grad:\n",
    "        # print(name, param.data)\n",
    "        torch_layers_params.append(param)"
   ]
  },
  {
   "cell_type": "code",
   "execution_count": 4,
   "metadata": {},
   "outputs": [],
   "source": [
    "import torch"
   ]
  },
  {
   "cell_type": "code",
   "execution_count": 5,
   "metadata": {},
   "outputs": [],
   "source": [
    "#赋值所有层的权重\n",
    "for indx, weight in enumerate(keras_model.get_weights()):\n",
    "    # weight = keras_model.get_weights()[0]   #keras第一层权重：numpy.ndarray\n",
    "    if len(weight.shape) == 4:  #卷积核\n",
    "        to_torch_weight = torch.Tensor(weight).permute(3,2,0,1) \n",
    "    elif len(weight.shape) == 1:  #偏置\n",
    "        to_torch_weight = torch.Tensor(weight)\n",
    "    else:\n",
    "        raise BaseException\n",
    "    # to_torch_weight = torch.Tensor(weight).permute(3,2,1,0)   \n",
    "    [k for k in model.named_parameters()][indx][1].data = to_torch_weight\n",
    "    # print(to_torch_weight[0,0,:,:])"
   ]
  },
  {
   "cell_type": "code",
   "execution_count": 6,
   "metadata": {},
   "outputs": [],
   "source": [
    "#生成固定输入\n",
    "torch.manual_seed(123)\n",
    "x0 = torch.randn(1, 1, 502, 502)"
   ]
  },
  {
   "cell_type": "code",
   "execution_count": 7,
   "metadata": {},
   "outputs": [],
   "source": [
    "#定义用于pytorch打印的hook函数\n",
    "torch_inter_layer_out = None\n",
    "def get_layer_output(layer, input, output):\n",
    "    global torch_inter_layer_out\n",
    "    torch_inter_layer_out = output"
   ]
  },
  {
   "cell_type": "code",
   "execution_count": 8,
   "metadata": {},
   "outputs": [],
   "source": [
    "def get_k_layer_name(indx):\n",
    "    #获取keras模型第k层的layer_name\n",
    "    #获取keras_model所有层。实际上就是83个卷积层\n",
    "    trainable_layer_names = [layer.name.split(r\"/\")[0] for layer in keras_model.trainable_weights]\n",
    "    from collections import OrderedDict\n",
    "    ordered_dict = OrderedDict.fromkeys(trainable_layer_names)\n",
    "    set_trainable_layer_names = list(ordered_dict.keys())\n",
    "    # set_trainable_layer_names\n",
    "    # keras_model.get_layer(set_trainable_layer_names[0])\n",
    "    return set_trainable_layer_names[indx]"
   ]
  },
  {
   "cell_type": "code",
   "execution_count": 9,
   "metadata": {},
   "outputs": [
    {
     "name": "stdout",
     "output_type": "stream",
     "text": [
      "RGs[0].RCABs[0].conv_gelu2[0]\n"
     ]
    }
   ],
   "source": [
    "#获取torch model要插入hook的hook_layer\n",
    "pre_index = 2\n",
    "\n",
    "import re\n",
    "s = torch_layers_names[pre_index*2]\n",
    "s = re.sub(r'\\.(\\d+)\\.', r'[\\1].', s)\n",
    "s = re.sub(r'\\.(\\d+)$', r'[\\1]', s)\n",
    "s = re.sub(r'\\.[^.]*$', '', s)\n",
    "print(s)\n",
    "\n",
    "def get_member(cls, string):\n",
    "    # 将输入字符串按照`.`分割成列表\n",
    "    attribute_list = string.split(\".\")\n",
    "    \n",
    "    # 定义变量result，初始值为A\n",
    "    result = cls\n",
    "    \n",
    "    # 遍历列表，访问对应的成员\n",
    "    for attribute_name in attribute_list:\n",
    "        if \"[\" in attribute_name and \"]\" in attribute_name:\n",
    "            # 如果元素是以[数字]结尾的形式，就将数字提取出来，并使用getattr()函数访问result的对应成员\n",
    "            index = int(attribute_name[attribute_name.index(\"[\")+1:attribute_name.index(\"]\")])\n",
    "            attribute_name = attribute_name[:attribute_name.index(\"[\")]\n",
    "            result = getattr(result, attribute_name)[index]\n",
    "        else:\n",
    "            # 否则，直接使用getattr()函数访问result的对应成员\n",
    "            result = getattr(result, attribute_name)\n",
    "    return result"
   ]
  },
  {
   "cell_type": "code",
   "execution_count": 10,
   "metadata": {},
   "outputs": [
    {
     "name": "stdout",
     "output_type": "stream",
     "text": [
      "torch模型和keras模型此层输出shape： torch.Size([1, 64, 502, 502]) torch.Size([1, 64, 502, 502])\n",
      "torch模型和keras模型此层输出截取：\n",
      "tensor([[ 0.0185, -0.0489,  0.0495],\n",
      "        [ 0.0007, -0.0276,  0.0331],\n",
      "        [-0.0091,  0.1517, -0.1249]], grad_fn=<SliceBackward0>)\n",
      "tensor([[1.1116, 0.7875, 0.9944],\n",
      "        [1.2446, 0.7724, 0.9506],\n",
      "        [1.2026, 0.5845, 0.9090]])\n"
     ]
    }
   ],
   "source": [
    "# 检查第layer_index层\n",
    "layer_index = pre_index   \n",
    "hook_layer = get_member(model,s)\n",
    "# hook_layer = model.RGs[0].RCABs[0].conv_gelu1[0]\n",
    "#pytorch\n",
    "hook_layer.register_forward_hook(get_layer_output) #添加钩子\n",
    "model(x0)\n",
    "torch_out = torch_inter_layer_out\n",
    "\n",
    "#keras\n",
    "from keras import backend as K\n",
    "# keras_x0 = K.constant(x0.permute(0,2,3,1).numpy())  #转到keras的输入\n",
    "keras_x0 = x0.permute(0,2,3,1).numpy()\n",
    "# print(type(keras_x0))\n",
    "# print(keras_x0.shape)\n",
    "from keras.models import Model\n",
    "layer_name = get_k_layer_name(layer_index)  #keras第\n",
    "intermediate_layer_model = Model(inputs=keras_model.input, outputs=keras_model.get_layer(layer_name).output)\n",
    "keras_output = intermediate_layer_model.predict(keras_x0)\n",
    "# print(\"keras卷积层输出：\",type(keras_output))\n",
    "keras_output_torch_tensor = torch.Tensor(keras_output).permute(0, 3, 1, 2)\n",
    "\n",
    "#比较二者\n",
    "# assert torch_out.shape == keras_output_torch_tensor.shape\n",
    "# print(torch_out == keras_output_torch_tensor)\n",
    "print(\"torch模型和keras模型此层输出shape：\",torch_out.shape, keras_output_torch_tensor.shape)\n",
    "print(\"torch模型和keras模型此层输出截取：\",torch_out[0,0,:3,:3], keras_output_torch_tensor[0,0,:3,:3],sep=\"\\n\")"
   ]
  }
 ],
 "metadata": {
  "interpreter": {
   "hash": "2d51c37cc946fd97d9f55e4af32d69fbde6fa060298c74a830a683b474425584"
  },
  "kernelspec": {
   "display_name": "Python 3.6.10 ('k2t_new')",
   "language": "python",
   "name": "python3"
  },
  "language_info": {
   "codemirror_mode": {
    "name": "ipython",
    "version": 3
   },
   "file_extension": ".py",
   "mimetype": "text/x-python",
   "name": "python",
   "nbconvert_exporter": "python",
   "pygments_lexer": "ipython3",
   "version": "3.6.10"
  },
  "orig_nbformat": 4
 },
 "nbformat": 4,
 "nbformat_minor": 2
}
